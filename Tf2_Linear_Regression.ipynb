{
  "nbformat": 4,
  "nbformat_minor": 0,
  "metadata": {
    "colab": {
      "name": "Tf2.Linear Regression.ipynb",
      "provenance": [],
      "authorship_tag": "ABX9TyM+kXfxXL5EK3MbBGrC1jCH",
      "include_colab_link": true
    },
    "kernelspec": {
      "name": "python3",
      "display_name": "Python 3"
    }
  },
  "cells": [
    {
      "cell_type": "markdown",
      "metadata": {
        "id": "view-in-github",
        "colab_type": "text"
      },
      "source": [
        "<a href=\"https://colab.research.google.com/github/sanskritilakhmani/Tensorflow/blob/master/Tf2_Linear_Regression.ipynb\" target=\"_parent\"><img src=\"https://colab.research.google.com/assets/colab-badge.svg\" alt=\"Open In Colab\"/></a>"
      ]
    },
    {
      "cell_type": "code",
      "metadata": {
        "id": "xBlRlClQZBPT",
        "colab_type": "code",
        "colab": {}
      },
      "source": [
        "# Install Tensorflow\n",
        "!pip install -q tensorflow==2.0.0-betl\n",
        "import tensorflow as tf\n",
        "print(tf.__version__)"
      ],
      "execution_count": null,
      "outputs": []
    },
    {
      "cell_type": "code",
      "metadata": {
        "id": "Cxab_hncZiSa",
        "colab_type": "code",
        "colab": {}
      },
      "source": [
        "# Others imports\n",
        "import pandas as pd\n",
        "import numpy as np\n",
        "import matplotlib.pyplot as plt"
      ],
      "execution_count": null,
      "outputs": []
    },
    {
      "cell_type": "code",
      "metadata": {
        "id": "YZUAPltwaAqA",
        "colab_type": "code",
        "colab": {}
      },
      "source": [
        "# Get the data\n",
        "!wget https://raw.githubusercontent.com/lazyprogrammer/machine_learning_examples/master/tf2.0/moore.csv"
      ],
      "execution_count": null,
      "outputs": []
    },
    {
      "cell_type": "code",
      "metadata": {
        "id": "0qm_J5vlahe2",
        "colab_type": "code",
        "colab": {}
      },
      "source": [
        "# Load in the data\n",
        "data = pd.read_csv('moore.csv',header=None).values\n",
        "X = data[ : , 0].reshape(-1,1) # make it a 2-d array o size N * D where D = 1\n",
        "Y = data[ :, 1]"
      ],
      "execution_count": null,
      "outputs": []
    },
    {
      "cell_type": "code",
      "metadata": {
        "id": "oN_15ygpbhug",
        "colab_type": "code",
        "colab": {
          "base_uri": "https://localhost:8080/",
          "height": 293
        },
        "outputId": "ac0ee54e-ae27-46d9-91c1-8088be1c3a98"
      },
      "source": [
        "# Plot the data - it is exponential\n",
        "plt.scatter(X,Y)"
      ],
      "execution_count": null,
      "outputs": [
        {
          "output_type": "execute_result",
          "data": {
            "text/plain": [
              "<matplotlib.collections.PathCollection at 0x7f704b8ec978>"
            ]
          },
          "metadata": {
            "tags": []
          },
          "execution_count": 22
        },
        {
          "output_type": "display_data",
          "data": {
            "image/png": "[encoded data removed]",
            "text/plain": [
              "<Figure size 432x288 with 1 Axes>"
            ]
          },
          "metadata": {
            "tags": [],
            "needs_background": "light"
          }
        }
      ]
    },
    {
      "cell_type": "code",
      "metadata": {
        "id": "TraZPVf5byzR",
        "colab_type": "code",
        "colab": {}
      },
      "source": [
        "# Let's also center the X data so that the values are not too large\n",
        "# we could scale it too but then we'd have to reverse the transformation later\n",
        "X = X - X.mean()"
      ],
      "execution_count": null,
      "outputs": []
    },
    {
      "cell_type": "code",
      "metadata": {
        "id": "SRXhex5ocdUA",
        "colab_type": "code",
        "colab": {}
      },
      "source": [
        "# Now create our tensorflow mopdel\n",
        "model = tf.keras.models.Sequential([\n",
        "      tf.keras.layers.Input(shape=(1,)),\n",
        "      tf.keras.layers.Dense(1)\n",
        "])\n",
        "model = compile(optimizer=tf.keras.optimizers.SGD(0.001, 0.9), loss='mse')\n",
        "# model.complile(optimizer='adam', loss='mse')\n",
        "\n",
        "# learning rate scheduler\n",
        "def schedule(epoch, lr) :\n",
        "  if epoch >= 50 :\n",
        "    return 0.0001\n",
        "  return 0.001\n",
        "\n",
        "scheduler = tf.keras.callbacks.LearningRateScheduler(schedule)\n",
        "\n",
        "# train the model\n",
        "r = model.fit(X,Y,epochs=200, callbacks=[scheduler])"
      ],
      "execution_count": null,
      "outputs": []
    },
    {
      "cell_type": "code",
      "metadata": {
        "id": "mZD9NPL2dVoo",
        "colab_type": "code",
        "colab": {}
      },
      "source": [
        "# Plot the loss \n",
        "plt.plot(r.history[ 'loss' ], label='loss')"
      ],
      "execution_count": null,
      "outputs": []
    }
  ]
}